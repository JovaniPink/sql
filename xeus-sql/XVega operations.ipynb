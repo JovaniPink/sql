{
 "cells": [
  {
   "cell_type": "code",
   "execution_count": null,
   "metadata": {},
   "outputs": [],
   "source": [
    "%LOAD sqlite3 db=chinook.db timeout=2 shared_cache=true"
   ]
  },
  {
   "cell_type": "code",
   "execution_count": null,
   "metadata": {},
   "outputs": [],
   "source": [
    "%XVEGA_PLOT X_FIELD EmployeeId Y_FIELD ReportsTo BIN TRUE MARK square WIDTH 100 HEIGHT 200 <> SELECT EmployeeId, ReportsTo FROM employees"
   ]
  },
  {
   "cell_type": "code",
   "execution_count": null,
   "metadata": {},
   "outputs": [],
   "source": [
    "%XVEGA_PLOT X_FIELD EmployeeId Y_FIELD ReportsTo BIN MAXBINS 3 MARK bar COLOR red WIDTH 200 HEIGHT 200 <> SELECT EmployeeId, ReportsTo FROM employees"
   ]
  },
  {
   "cell_type": "code",
   "execution_count": null,
   "metadata": {},
   "outputs": [],
   "source": [
    "%XVEGA_PLOT X_FIELD EmployeeId Y_FIELD ReportsTo TYPE ordinal MARK bar COLOR green WIDTH 200 HEIGHT 200 <> SELECT EmployeeId, ReportsTo FROM employees"
   ]
  },
  {
   "cell_type": "code",
   "execution_count": null,
   "metadata": {},
   "outputs": [],
   "source": [
    "%XVEGA_PLOT X_FIELD Name TYPE nominal Y_FIELD ArtistId BIN MAXBINS 1 MARK line COLOR purple WIDTH 200 HEIGHT 200 <> SELECT Name, ArtistId FROM artists LIMIT 10"
   ]
  },
  {
   "cell_type": "code",
   "execution_count": null,
   "metadata": {},
   "outputs": [],
   "source": [
    "%XVEGA_PLOT X_FIELD EmployeeId GRID false Y_FIELD ReportsTo MARK area COLOR pink WIDTH 200 HEIGHT 200 <> SELECT EmployeeId, ReportsTo FROM employees"
   ]
  },
  {
   "cell_type": "markdown",
   "metadata": {},
   "source": [
    "`%VEGA_LITE` follow by a json specs, with a new line followed by a SQL commands"
   ]
  },
  {
   "cell_type": "code",
   "execution_count": null,
   "metadata": {},
   "outputs": [],
   "source": [
    "%VEGA_LITE rect_category_heatmap.vl.json\n",
    "select i.BillingCountry as Country, g.name as Genre, count(1) as c\n",
    "from invoices i \n",
    "    inner join invoice_items il on i.InvoiceId=il.InvoiceId \n",
    "    inner join tracks t on t.TrackId=il.TrackId \n",
    "    inner join genres g on g.GenreId=t.GenreId\n",
    "group by 1,2"
   ]
  },
  {
   "cell_type": "markdown",
   "metadata": {},
   "source": [
    "Create a new spec on the fly by `VEGA_LITE SET spec_name` then followed by the json spec"
   ]
  },
  {
   "cell_type": "code",
   "execution_count": null,
   "metadata": {},
   "outputs": [],
   "source": [
    "%VEGA_LITE SET colored_scatterplot.vl.json\n",
    "{\n",
    "  \"$schema\": \"https://vega.github.io/schema/vega-lite/v4.json\",\n",
    "  \"data\": {\"url\": \"data/movies.json\"},\n",
    "  \"mark\": \"circle\",\n",
    "  \"width\": 400,\n",
    "  \"height\": 300,\n",
    "  \"encoding\": {\n",
    "    \"x\": {\n",
    "      \"field\": \"trackNo\", \"sort\": \"ascending\", \"type\": \"quantitative\"\n",
    "    },\n",
    "    \"y\": {\n",
    "      \"field\": \"sales\", \"type\": \"quantitative\"\n",
    "    },\n",
    "    \"color\": {\"field\": \"name\", \"type\": \"nominal\", \"sort\": {\"field\": \"-x\", \"order\": \"descending\"}},\n",
    "    \"size\": {\"field\": \"sales\", \"type\": \"quantitative\"}\n",
    "  }\n",
    "}"
   ]
  },
  {
   "cell_type": "markdown",
   "metadata": {},
   "source": [
    "When plot we will first try if the spec is defined before, then check the file"
   ]
  },
  {
   "cell_type": "code",
   "execution_count": null,
   "metadata": {},
   "outputs": [],
   "source": [
    "%VEGA_LITE colored_scatterplot.vl.json\n",
    "select g.name name, sum(i.total) sales, count(distinct t.trackId) trackNo \n",
    "from tracks t \n",
    "    inner join genres g on g.genreId=t.genreId \n",
    "    inner join invoice_items il on il.trackId=t.trackId\n",
    "    inner join invoices i on i.invoiceId=il.invoiceLineId\n",
    "group by g.name\n",
    "order by sales desc limit 10;"
   ]
  }
 ],
 "metadata": {
  "kernelspec": {
   "display_name": "xsql",
   "language": "sqlite",
   "name": "xsql"
  },
  "language_info": {
   "codemirror_mode": "sql",
   "file_extension": "",
   "mimetype": "",
   "name": "mysql",
   "version": "0.0.6"
  }
 },
 "nbformat": 4,
 "nbformat_minor": 4
}
